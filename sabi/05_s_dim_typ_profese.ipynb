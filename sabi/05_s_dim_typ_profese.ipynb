{
 "cells": [
  {
   "cell_type": "markdown",
   "id": "4d033105",
   "metadata": {},
   "source": [
    "Vytvoření dimenze typu profese\n",
    "\n",
    "Tento skript:\n",
    "1. Vytváří DataFrame `dim_typ_profese` se třemi typy profesí: praktik, pediatr a zubař.\n",
    "2. Přiřazuje k nim unikátní ID.\n",
    "3. Exportuje výsledek do CSV souboru optimalizovaný pro nahrádí do SQL databáze"
   ]
  },
  {
   "cell_type": "code",
   "execution_count": 5,
   "id": "0dec969a",
   "metadata": {},
   "outputs": [],
   "source": [
    "import pandas as pd\n",
    "\n",
    "data = {\n",
    "    \"id\": [1, 2, 3],\n",
    "    \"nazev\": [\"praktik\", \"pediatr\", \"zubař\"]\n",
    "}\n",
    "\n",
    "dim_typ_profese = pd.DataFrame(data)"
   ]
  },
  {
   "cell_type": "code",
   "execution_count": 6,
   "id": "99769357",
   "metadata": {},
   "outputs": [],
   "source": [
    "dim_typ_profese.to_csv(\n",
    "    r'C:\\Users\\Sabina\\Sabi dokumenty\\01 Czechitas\\01 PYTHON\\Python\\Detektivky_vizualni_smog\\sabi\\data\\ss_dim_typ_profese.csv', \n",
    "    sep=';',             # Oddělovač středník\n",
    "    index=False,         # Bez indexového sloupce\n",
    "    quoting=1,           # Obalit texty do uvozovek (csv.QUOTE_ALL)\n",
    "    quotechar='\"',       # Použít dvojité uvozovky\n",
    "    encoding='utf-8'     # Doporučené kódování\n",
    ")"
   ]
  }
 ],
 "metadata": {
  "kernelspec": {
   "display_name": "Python 3",
   "language": "python",
   "name": "python3"
  },
  "language_info": {
   "codemirror_mode": {
    "name": "ipython",
    "version": 3
   },
   "file_extension": ".py",
   "mimetype": "text/x-python",
   "name": "python",
   "nbconvert_exporter": "python",
   "pygments_lexer": "ipython3",
   "version": "3.13.2"
  }
 },
 "nbformat": 4,
 "nbformat_minor": 5
}
