{
 "cells": [
  {
   "cell_type": "code",
   "execution_count": 1,
   "id": "0dec969a",
   "metadata": {},
   "outputs": [
    {
     "name": "stdout",
     "output_type": "stream",
     "text": [
      "   id    nazev\n",
      "0   1  praktik\n",
      "1   2  pediatr\n",
      "2   3    zubař\n"
     ]
    }
   ],
   "source": [
    "import pandas as pd\n",
    "\n",
    "# Definice dat\n",
    "data = {\n",
    "    \"id\": [1, 2, 3],\n",
    "    \"nazev\": [\"praktik\", \"pediatr\", \"zubař\"]\n",
    "}\n",
    "\n",
    "# Vytvoření dataframe\n",
    "dim_typ_profese = pd.DataFrame(data)\n",
    "\n",
    "# Zobrazení\n",
    "print(dim_typ_profese)"
   ]
  },
  {
   "cell_type": "code",
   "execution_count": 2,
   "id": "99769357",
   "metadata": {},
   "outputs": [],
   "source": [
    "dim_typ_profese.to_csv(\n",
    "    r'C:\\Users\\Sabina\\Sabi dokumenty\\01 Czechitas\\01 PYTHON\\Python\\Detektivky_vizualni_smog\\sabi\\data\\ss_dim_typ_profese.csv', \n",
    "    sep=\";\",                  # 1. oddělovač středník\n",
    "    index=False,              # bez indexu\n",
    "    quoting=1,                # 3. obalit všechny stringy do uvozovek\n",
    "    quotechar='\"',            # uvozovky\n",
    "    encoding=\"utf-8\"          # doporučené kódování\n",
    "    )"
   ]
  }
 ],
 "metadata": {
  "kernelspec": {
   "display_name": "Python 3",
   "language": "python",
   "name": "python3"
  },
  "language_info": {
   "codemirror_mode": {
    "name": "ipython",
    "version": 3
   },
   "file_extension": ".py",
   "mimetype": "text/x-python",
   "name": "python",
   "nbconvert_exporter": "python",
   "pygments_lexer": "ipython3",
   "version": "3.13.2"
  }
 },
 "nbformat": 4,
 "nbformat_minor": 5
}
